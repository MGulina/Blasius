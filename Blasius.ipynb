{
 "cells": [
  {
   "cell_type": "markdown",
   "metadata": {},
   "source": [
    "<table width=\"100%\">\n",
    "  <tr>\n",
    "    <td>\n",
    "        <div align=\"center\">\n",
    "            <h1>Résolution numérique du problème de Blasius</h1>\n",
    "            <br />\n",
    "        </div>\n",
    "    </td>\n",
    "  </tr>\n",
    "</table>"
   ]
  },
  {
   "cell_type": "markdown",
   "metadata": {},
   "source": [
    "## Introduction"
   ]
  },
  {
   "cell_type": "markdown",
   "metadata": {},
   "source": [
    "    A rédiger\n",
    "    Objectifs : résoudre Blasius en comparant 2 méthodes numérique et consigner le tout dans un notebook public sur GitHub"
   ]
  },
  {
   "cell_type": "markdown",
   "metadata": {},
   "source": [
    "## 1 - Un soupçon de théorie"
   ]
  },
  {
   "cell_type": "markdown",
   "metadata": {},
   "source": [
    " <div align=\"right\">\n",
    "     <i>\n",
    "         « Ce que l'on conçoit bien s'énonce clairement,\n",
    "         <br />\n",
    "         et les mots pour le dire arrivent aisément. »\n",
    "     </i>\n",
    "     <br />\n",
    "     Nicolas Boileau, <i>L'Art poétique</i> (1674)\n",
    " </div>"
   ]
  },
  {
   "cell_type": "markdown",
   "metadata": {},
   "source": [
    "### 1.1 - Le problème de Blasius"
   ]
  },
  {
   "cell_type": "markdown",
   "metadata": {},
   "source": [
    "    A rédiger\n",
    "    Planter le décor et montrer les 2 formes analytiques du problème de Blasius en partant de NS pour la première et en y ajoutant le formalisme de la fonction de courant pour la seconde. Enfin, adimenssionnaliser les équations.\n",
    "\n",
    "   * Forme 1 - Prandtl - EDP : \n",
    "$$\n",
    "    u_x \\frac{\\partial u_x}{\\partial x} + u_y \\frac{\\partial u_x}{\\partial y} = \\nu \\frac{\\partial^2 u_x}{\\partial^2 y}\n",
    "$$\n",
    "$$ \n",
    "    \\vec{\\nabla} \\cdot \\vec{u} = 0\n",
    "$$\n",
    "    \n",
    "   * Forme 2 - Blasius - EDO :\n",
    "$$\n",
    "    \\frac{1}{2}ff^{''} + f^{'''} = 0\n",
    "$$\n",
    "\n",
    "    avec \n",
    "$$ \\left\\{ \\;    \n",
    "\\begin{array}{lcl}\n",
    "f(0) & = & 0 \\\\ \n",
    "f'(0) & = & 0 \\\\ \n",
    "f''(\\infty) & = & 1 \\\\ \n",
    "\\end{array} \n",
    "\\right.$$"
   ]
  },
  {
   "cell_type": "markdown",
   "metadata": {},
   "source": [
    "### 1.2 - Méhodes de résolution numérique"
   ]
  },
  {
   "cell_type": "markdown",
   "metadata": {},
   "source": [
    "Il arrive souvent en physique que des équations ne peuvent être solutionnées analytiquement. La fameuse équation de Navier-Stokes en donne un exemple flagrant. Le problème que nous avons à résoudre en découle et peut s’écrire sous 2 formes analytiques équivalentes. Celles-ci sont propices à l’utilisation de méthodes numériques différentes (la méthode des différences finies et l’intégration numérique) de sorte que nous puissions, à la fin, les comparer.\n",
    "\n",
    "Notons que l'intégration numérique est assujettie aux conditions initiales. Ici, nous n'en n'avons que deux sur trois. Cependant, on a tout de même une condition supplémentaire qui peut être exploitée afin de pouvoir utiliser l'intégration numérique, il faudra donc passer par le * « shooting »*."
   ]
  },
  {
   "cell_type": "markdown",
   "metadata": {},
   "source": [
    "#### 1.2.1 - Différences finies"
   ]
  },
  {
   "cell_type": "markdown",
   "metadata": {},
   "source": [
    "La méthode des différences finies est très intuitive. Elle est basée sur la définition de la dérivée d'une fonction (que l'on suppose, bien entendu, suffisamment lisse) : \n",
    "\n",
    "$$\n",
    "    f'(x) = \\lim_{\\Delta x \\, \\to \\, 0} \\frac{f(x + \\Delta x) - f(x)}{\\Delta x}\n",
    "$$\n",
    "\n",
    "On construit une grille de pas $h$ et on approxime ainsi la dérivée de la fonction à l'aide du nœud de la grille suivant : \n",
    "\n",
    "$$\n",
    "    f'(x) \\approx \\frac{f(x + h) - f(x)}{h}\n",
    "$$\n",
    "\n",
    "C'est la formule d'Euler progressive. Si on exploite le nœud précédent, on obtient la formule d'Euler rétrograde : \n",
    "\n",
    "$$\n",
    "    f'(x) \\approx \\frac{f(x) - f(x - h)}{h}\n",
    "$$\n",
    "\n",
    "Afin de gagner en précision, on peut utiliser les deux informations pour avoir la différence centrée : \n",
    "\n",
    "$$\n",
    "    f'(x) \\approx \\frac{f(x + h) - f(x - h)}{2h}\n",
    "$$\n",
    "\n",
    "L'article de B. Fornberg fournit les coefficients à utiliser pour les dérivées d'ordre supérieur (jusque 4) ainsi que pour des niveaux plus fin de précision."
   ]
  },
  {
   "cell_type": "markdown",
   "metadata": {},
   "source": [
    "#### 1.2.2 - Intégration numérique"
   ]
  },
  {
   "cell_type": "markdown",
   "metadata": {},
   "source": [
    "Considérons le problème de Cauchy suivant : \n",
    "\n",
    "$$ \\left\\{ \\;\n",
    "\\begin{array}{lcl}\n",
    "y'(x) & = & f(x,y(x)) \\\\ \n",
    "y(x_0) & = & y_0 \\\\ \n",
    "\\end{array} \n",
    "\\right.$$\n",
    "\n",
    "De nouveau, on suppose la fonction $y$ suffisamment lisse sur l'intervalle $I$ où court $x$. Dès lors, on peut montrer l'existence et l'unicité d'une solution locale. Celle-ci sera de la forme : \n",
    "$$ y(x) = y_0 + \\int\\limits_{x_0}^{x} f(x',y(x')) dx'$$\n",
    "\n",
    "Maintenant, on discrétise l'invervalle d'intégration par un pas $h$ tel que : \n",
    "$$ x_n = x_0 + nh  \\; ; \\; n \\in \\left\\{ 0, 1, \\cdots, N \\right\\} \\subset \\mathbb{N}$$\n",
    "\n",
    "On définit alors pour chacun de ces nœuds : \n",
    "$$ y_n = y(x_n) \\; ; \\; f_n = f(x_n, y_n)$$\n",
    "\n",
    "Ceci permet de construire une schéma d'intégration générique calculant successivement $y_i$ en chaque nœuds depuis la condition initiale connue : \n",
    "$$y_{n+1} = y_n + hF(x_i, y_i, f_i; h)$$\n",
    "\n",
    "Où $F$ est la fonction d'incrément caractérisant le schéma d'intégration utilisé."
   ]
  },
  {
   "cell_type": "markdown",
   "metadata": {},
   "source": [
    "#### 1.2.3 - Méthode du « <i>shooting</i> »"
   ]
  },
  {
   "cell_type": "markdown",
   "metadata": {},
   "source": [
    "Si l'on a une condition limite qui n'est pas fixée à l'origine, en vertu du paragraphe précédent, on voit que l'intégration numérique ne peut pas s'enclencher. Par exemple, considérons un système de trois équations différentielles ordinaires pour $f_1$, $f_2$ et $f_3$ tel que\n",
    "\n",
    "$$ \\left\\{ \\;\n",
    "\\begin{array}{lcl}\n",
    "f_1(t_0) & = & f_{10} \\\\ \n",
    "f_2(t_0) & = & f_{20} \\\\ \n",
    "f_3(\\tau) & = & f_{3\\tau} \\\\ \n",
    "\\end{array} \n",
    "\\right.$$\n",
    "\n",
    "On construit alors un algorithme qui va essayer différentes conditions initiales pour $f_3$ jusqu'à en trouver une telle que l'on ait $f_3(\\tau) = f_{3\\tau}$.  Cette idée d'essayer différentes conditions initiales et de les tirer jusque $\\tau$ fait penser à des tirs successifs, d'où le nom de méthode du « *shooting* »."
   ]
  },
  {
   "cell_type": "markdown",
   "metadata": {},
   "source": [
    "## 2 - Résolution numérique"
   ]
  },
  {
   "cell_type": "markdown",
   "metadata": {},
   "source": [
    "On commence par la méthode du *shooting* en transformant l'équation différentielle ordinaire du $3^{ème}$ ordre en un système de trois équations différentielles ordinaires du $1^{er}$ ordre :\n",
    "\n",
    "$$ \\left\\{ \\;\n",
    "\\begin{array}{lclc}\n",
    "g_1 & = & f   &                 \\\\ \n",
    "g_2 & = & f'  & \\Longrightarrow \\\\ \n",
    "g_3 & = & f'' &                 \\\\ \n",
    "\\end{array}\n",
    "\\right.\n",
    "\\left\\{ \\;\n",
    "\\begin{array}{lcl}\n",
    "g_1' & = & g_2 \\\\ \n",
    "g_2' & = & g_3 \\\\ \n",
    "g_3' & = & -\\frac{1}{2} g_1 g_3 \\\\ \n",
    "\\end{array}\n",
    "\\right.\n",
    "$$\n",
    "\n",
    "Où l'on a explicitement utilisé l'équation de blasius pour $g_3'$.\n",
    "\n",
    "Il faut modifier la $3^{ème}$condition initiale pour avoir $\\lim\\limits_{t \\to + \\infty} g_2(t) = 1$"
   ]
  },
  {
   "cell_type": "code",
   "execution_count": 284,
   "metadata": {
    "collapsed": false
   },
   "outputs": [],
   "source": [
    "# Librairies\n",
    "import numpy as np\n",
    "from scipy.integrate import odeint\n",
    "import matplotlib.pyplot as plt\n",
    "\n",
    "# Définition du vecteur x\n",
    "xmin = 0.\n",
    "xmax = 20. # Modifiable (par défaut 20.0)\n",
    "n = 2       # Modifiable (par défaut 2)\n",
    "m = pow(10,n)\n",
    "x = np.linspace(xmin, xmax, m) \n",
    "\n",
    "# Conditions initiales\n",
    "CondInit = np.array([0.0,0.0,0.3321]) # Shooting sur la troisième : valeur optimale 0.3321\n",
    "\n",
    "# Définition du système différentiel\n",
    "def Blasius(CondInit,t):\n",
    "    g1 = CondInit[1]\n",
    "    g2 = CondInit[2]\n",
    "    g3 = -0.5*CondInit[0]*CondInit[2]\n",
    "    return np.array([g1, g2, g3])\n",
    "\n",
    "# Intégration du système\n",
    "g = odeint(Blasius, CondInit, x) # g_1 = g[0], g_2 = g[1] et g_3 = g[2]\n",
    "\n",
    "# Affichage \n",
    "fig, axes = plt.subplots(3, sharex = True, figsize=(15,10))\n",
    "axes[0].plot(x, g[:,0])\n",
    "axes[0].set_ylabel('Axe y')\n",
    "axes[0].set_title('g_1')\n",
    "axes[0].xaxis.grid(True,'major')\n",
    "axes[0].yaxis.grid(True,'major')\n",
    "\n",
    "axes[1].plot(x, g[:,1])\n",
    "axes[1].set_ylabel('Axe y')\n",
    "axes[1].set_title('g_2')\n",
    "axes[1].xaxis.grid(True,'major')\n",
    "axes[1].yaxis.grid(True,'major')\n",
    "\n",
    "axes[2].plot(x, g[:,2])\n",
    "axes[2].set_xlabel('Axe x')\n",
    "axes[2].set_ylabel('Axe y')\n",
    "axes[2].set_title('g_3')\n",
    "axes[2].xaxis.grid(True,'major')\n",
    "axes[2].yaxis.grid(True,'major')\n",
    "\n",
    "plt.show(fig)"
   ]
  },
  {
   "cell_type": "markdown",
   "metadata": {},
   "source": [
    "    TEST différences finies : non fonctionnel"
   ]
  },
  {
   "cell_type": "code",
   "execution_count": 282,
   "metadata": {
    "collapsed": false
   },
   "outputs": [],
   "source": [
    "# Librairies\n",
    "import numpy as np\n",
    "from scipy.integrate import odeint\n",
    "import matplotlib.pyplot as plt\n",
    "\n",
    "# Définition du vecteur x\n",
    "xmin = 0.\n",
    "xmax = 20.0   # Modifiable (par défaut 20.0)\n",
    "n = 2         # Modifiable (par défaut 2)\n",
    "m = pow(10,n)\n",
    "h = round(xmax - xmin)/m\n",
    "x = np.linspace(xmin, xmax, m) \n",
    "\n",
    "# Conditions initiales\n",
    "U = 2.\n",
    "CondInit = np.array([0., U, 0., 0.]) # [u(x,0), u(0,y) , v(x,0), v(0,y)] = [0 , U, 0, 0] \n",
    "\n",
    "# Résolution \n",
    "# Initialisation \n",
    "u = np.zeros((m+1, m+1), dtype='f')\n",
    "v = np.zeros((m+1, m+1), dtype='f')\n",
    "\n",
    "k = 0\n",
    "while k < m + 1 :\n",
    "    u[0,k] = CondInit[1]\n",
    "    u[k,0] = CondInit[0]\n",
    "    k += 1    \n",
    "\n",
    "    "
   ]
  },
  {
   "cell_type": "code",
   "execution_count": 283,
   "metadata": {
    "collapsed": false
   },
   "outputs": [
    {
     "data": {
      "text/plain": [
       "array([[ 0.,  2.,  2., ...,  2.,  2.,  2.],\n",
       "       [ 0.,  0.,  0., ...,  0.,  0.,  0.],\n",
       "       [ 0.,  0.,  0., ...,  0.,  0.,  0.],\n",
       "       ..., \n",
       "       [ 0.,  0.,  0., ...,  0.,  0.,  0.],\n",
       "       [ 0.,  0.,  0., ...,  0.,  0.,  0.],\n",
       "       [ 0.,  0.,  0., ...,  0.,  0.,  0.]], dtype=float32)"
      ]
     },
     "execution_count": 283,
     "metadata": {},
     "output_type": "execute_result"
    }
   ],
   "source": [
    "u"
   ]
  },
  {
   "cell_type": "markdown",
   "metadata": {},
   "source": [
    "## 3 - Conclusions"
   ]
  },
  {
   "cell_type": "markdown",
   "metadata": {},
   "source": [
    "    A rédiger\n",
    "    Comparaison des méthodes : vitesse, stabilité, simplicité, précision, ...\n",
    "\n",
    "    Conclure"
   ]
  },
  {
   "cell_type": "markdown",
   "metadata": {},
   "source": [
    "## Bibliographie"
   ]
  },
  {
   "cell_type": "markdown",
   "metadata": {},
   "source": [
    "* Notes personelles basée sur le cours magistral <i>Dynamique des fluides et des plasmas</i> de Bernard Knaepen, Université Libre de Bruxelles, 2015.\n",
    "* André Fuzfa, <i>Introduction aux algorithmes mathématiques et au calcul scientifique</i>, Presse Universitaire de Namur, 2012.\n",
    "* Josef Stoer and Roland Bulirsch, <i>Introduction to Numerical Analysis</i>, New York : Springer-Verlag, 1980. Voir section 7.3.\n",
    "* Bengt Fornberg, <i>Generation of Finite Difference Formulas on Arbitrarily Spaced Grids</i>, Mathematics of Computation, volume 51 numéro 184, octobre 1988."
   ]
  }
 ],
 "metadata": {
  "kernelspec": {
   "display_name": "Python 3",
   "language": "python",
   "name": "python3"
  },
  "language_info": {
   "codemirror_mode": {
    "name": "ipython",
    "version": 3
   },
   "file_extension": ".py",
   "mimetype": "text/x-python",
   "name": "python",
   "nbconvert_exporter": "python",
   "pygments_lexer": "ipython3",
   "version": "3.5.0"
  }
 },
 "nbformat": 4,
 "nbformat_minor": 0
}
