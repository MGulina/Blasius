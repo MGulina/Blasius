{
 "cells": [
  {
   "cell_type": "markdown",
   "metadata": {},
   "source": [
    "<center><h1>Résolution numérique du problème de la couche limite Prandtl - Blasius</h1></center>"
   ]
  },
  {
   "cell_type": "markdown",
   "metadata": {},
   "source": [
    "## Avant-propos\n",
    "Comprendre la Nature… Ces trois mots incarnent la pensée du Physicien. Dans ce but, il commence par étudier le solide, objet insensible aux déformations de par sa nature. Cette insensibilité lui confère une certaine simplicité dans sa description. En Dynamique des Fluides, on étudiera des objets de nature autrement plus complexe : tantôt calmes et tranquilles, tantôt impétueux et tumultueux, les fluides, quant à eux, ont beaucoup de choses à nous dire ! La simplicité du solide n’est plus ; ce sont des équations aux dérivées partielles non linéaires qui régissent le mouvement des fluides « newtoniens » comme milieux continus. Elles furent écrites par Navier et Stokes dans le courant du $XIX^e$ siècle et prennent, si l’on suppose l’incompressibilité, la forme analytique suivante :\n",
    "\n",
    "$$\n",
    "   \\rho \\left[ \\frac{\\partial \\vec{u}}{\\partial t}  + \\left( \\vec{u} \\cdot \\vec{\\nabla} \\right) \\vec{u} \\right] =  - \\vec{\\nabla}P + \\mu \\Delta \\vec{u} + \\vec{f_{ext}}\n",
    "$$\n",
    "\n",
    "De nombreux artistes de la Science ont contribué à la résolution de ces équations dans différents cas particuliers. Nous étudions ici l'un de ces cas : le calcul de la couche limite sur une plaque plane. Partant des équations de Navier-Stokes, Prandtl trouva des équations aux dérivées partielles. C'est alors que Blasius, étudiant de Prandtl, proposa une formulation plus esthétique en une équation différentielle ordinaire..."
   ]
  },
  {
   "cell_type": "markdown",
   "metadata": {},
   "source": [
    "## Contenu\n",
    "\n",
    "    Non fonctionnel sur GitHub mais sur Jupyter ok.\n",
    "\n",
    "[1 - Un soupçon de théorie](#1---Un-soup%C3%A7on-de-th%C3%A9orie)\n",
    "\n",
    "    1.1 - Calcul de la couche limite\n",
    "    \n",
    "       1.1.1 - Formulation de Prandtl (1875 - 1953) en équations aux dérivées partielles\n",
    "       \n",
    "       1.1.2 - Formulation de Blasius (1883 - 1970) en équation différentielle ordinaire\n",
    "       \n",
    "    1.2 - Méthodes de résolution numérique\n",
    "    \n",
    "       1.2.1 - Différences finies\n",
    "       \n",
    "       1.2.2 - Intégration numérique\n",
    "       \n",
    "       1.2.3 - Méthode du « shooting »\n",
    "\n",
    "[2 -  Résolution numérique](#2---Résolution-numérique)\n",
    "\n",
    "    2.1 - Différences finies appliquées à la forme de Prandtl\n",
    "\n",
    "    2.2 - Intégration numérique de problème de Blasius\n",
    "    \n",
    "[3 - Conclusions](#3---Conclusions)\n",
    "\n",
    "[Bibliographie](#Bibliographie)"
   ]
  },
  {
   "cell_type": "markdown",
   "metadata": {},
   "source": [
    "## 1 - Un soupçon de théorie\n",
    "<div align=\"right\">\n",
    "     <i>\n",
    "         « Ce que l'on conçoit bien s'énonce clairement,\n",
    "         <br />\n",
    "         et les mots pour le dire arrivent aisément. »\n",
    "     </i>\n",
    "     <br />\n",
    "     Nicolas Boileau, <i>L'Art poétique</i> (1674)\n",
    " </div>"
   ]
  },
  {
   "cell_type": "markdown",
   "metadata": {},
   "source": [
    "### 1.1 - Calcul de la couche limite\n",
    "\n",
    "Considérons une plaque plane et modélisons-la par le demi-plan infini généré par les axes orthogonaux habituels $x$ et $z$ de sorte qu'il soit dans la partie positive de $x$. Le $3^{ème}$ axe, $y$, pointe donc vers le haut, perpendiculairement à ce plan.\n",
    "\n",
    "Ajoutons maintenant les vents, soufflant à la vitesse $\\vec{U}$ dans la direction $x$. Une fois arrivé dans la partie positive de l'axe, la vitesse du fluide subira l'influence de la plaque et on la notera $\\vec{u} = \\left( u_x(t,x,y),u_y(t,x,y) \\right)$ où l'on peut se passer de la dépendance en $z$ par symétrie de translation."
   ]
  },
  {
   "cell_type": "markdown",
   "metadata": {},
   "source": [
    "<div align=\"right\">\n",
    "[Contenu](#Contenu)\n",
    "</div>"
   ]
  },
  {
   "cell_type": "markdown",
   "metadata": {},
   "source": [
    "#### 1.1.1 - Formulation de Prandtl (1875 - 1953) en équations aux dérivées partielles\n",
    "\n",
    "__*Analyse de l'équation pour $u_x$*__\n",
    "\n",
    "Écrivons l'équation de Navier-Stokes projetée sur $x$ en divisant les deux membres par $\\rho$ pour avoir, sachant que $\\nu = \\mu/\\rho$ : \n",
    "\n",
    "$$\n",
    "  \\frac{\\partial u_x}{\\partial t}  + u_x\\frac{\\partial u_x}{\\partial x} + u_y\\frac{\\partial u_x}{\\partial y} =  \n",
    "  -  \\frac{1}{\\rho}\\frac{\\partial P}{\\partial x} + \\nu \\frac{\\partial^2 u_x }{\\partial x^2} + \\nu \\frac{\\partial^2 u_x }{\\partial y^2} \n",
    "$$\n",
    "\n",
    "Compte tenu de la géométrie du problème, on peut supposer que :\n",
    "\n",
    "$$ \\left\\{ \\;    \n",
    "\\begin{array}{lcl}\n",
    "\\left| \\partial_x u_x \\right|    & << & \\left| \\partial_y u_x \\right| \\\\ \n",
    "\\left| \\partial_x^2 u_x \\right|  & << & \\left| \\partial_y^2 u_x \\right| \\\\ \n",
    "\\end{array} \n",
    "\\right.\n",
    "$$\n",
    "\n",
    "De plus, il n'y a pas de forces extérieures. Ces affirmations rendent licite l'écriture suivante pour la composante $u_x$ :\n",
    "\n",
    "$$\n",
    "  \\frac{\\partial u_x}{\\partial t}  + u_x\\frac{\\partial u_x}{\\partial x} + u_y\\frac{\\partial u_x}{\\partial y} =\n",
    "  - \\frac{1}{\\rho}\\frac{\\partial P}{\\partial x} + \\nu \\frac{\\partial^2 u_x }{\\partial y^2} \n",
    "$$\n",
    "\n",
    "Où l'on a pu négliger l'un des termes du laplacien. Il est important de remarquer que l'on n'a pas simplifié les dérivées premières malgré la tentation. En effet, en regardant attentivement on s'aperçoit que la pondération résultante de l'opérateur $\\vec{u} \\cdot \\vec{\\nabla}$ confère à ces deux termes un même ordre de grandeur. L'incompressibilité force l'écoulement à être solénoïdal. Ceci s'exprime comme :\n",
    "$$\n",
    "\\vec{\\nabla} \\cdot \\vec{u} = 0\n",
    "$$\n",
    "\n",
    "Si on pose $L$ comme la distance caractéristique dans la direction $x$ et $\\delta$  l'analogue pour la direction $y$, on peut écrire cette contrainte de manière dimensionnelle :\n",
    "$$\n",
    "\\frac{u_x}{L} \\sim \\frac{u_y}{\\delta}\n",
    "$$\n",
    "\n",
    "Il s'en suit les égalités ci-dessous :\n",
    "\n",
    "$$ \\left\\{ \\;    \n",
    "\\begin{array}{lclcl}\n",
    "\\left| u_x \\partial_x u_x \\right| & \\sim & U^2/L       &      &         \\\\ \n",
    "\\left| u_y \\partial_y u_x \\right| & \\sim & u_yu_x/\\delta & \\sim & U^2/L \\\\ \n",
    "\\end{array} \n",
    "\\right.\n",
    "$$\n",
    "\n",
    "__*Expression de $\\delta$*__\n",
    "\n",
    "À la limite où l'on a égalité des contributions du terme non linéaire et du terme visqueux, il vient :\n",
    "\n",
    "$$\n",
    " \\frac{U^2}{L} \\sim \\nu \\frac{U}{\\delta^2} \\Longrightarrow \\delta \\sim \\frac{L}{\\sqrt{Re}}\n",
    "$$\n",
    "\n",
    "En utilisant la définition du nombre de Reynolds $Re = UL/\\nu$. On appelle couche limite, la zone en contact avec la plaque et d'épaisseur $\\delta$. C'est dans cette couche que les effets visqueux dominent.\n",
    "\n",
    "__*Analyse de l'équation pour $u_y$*__\n",
    "\n",
    "Exploitons maintenant l'équation pour $u_y$. Celle-ci s'écrit comme :\n",
    "\n",
    "$$\n",
    "  \\frac{\\partial u_y}{\\partial t}  + u_x\\frac{\\partial u_y}{\\partial x} + u_y\\frac{\\partial u_y}{\\partial y} =\n",
    "  - \\frac{1}{\\rho}\\frac{\\partial P}{\\partial y} + \\nu \\frac{\\partial^2 u_y }{\\partial x^2} + \\nu \\frac{\\partial^2 u_y }{\\partial y^2} \n",
    "$$\n",
    "\n",
    "L'analyse dimensionnelle fournit les relations suivantes, avec $T \\sim L/u_x$ :\n",
    "\n",
    "$$ \\left\\{ \\;    \n",
    "\\begin{array}{lclcl}\n",
    "\\left| \\partial_t u_y \\right|       & \\sim & u_x\\delta/LT                            & \\sim & \\delta U^2/L^2    \\\\ \n",
    "\\left| u_x \\partial_x u_y \\right|   & \\sim & u_x u_y/L                               & \\sim & \\delta U^2/L^2    \\\\\n",
    "\\left| u_y \\partial_y u_y \\right|   & \\sim & u_y^2/\\delta                            & \\sim & \\delta U^2/L^2    \\\\\n",
    "\\left| \\nu \\partial_x^2 u_y \\right| & \\sim & \\frac{\\nu}{L^2}     \\frac{u_x\\delta}{L} & \\sim & \\delta^3 U^2/L^4  \\\\\n",
    "\\left| \\nu \\partial_y^2 u_y \\right| & \\sim & \\frac{\\nu}{\\delta^2}\\frac{u_x\\delta}{L} & \\sim & \\delta U^2/L^2    \\\\\n",
    "\\end{array} \n",
    "\\right.\n",
    "$$\n",
    "\n",
    "Par compatibilité, on a : $\\left| \\partial_y P \\right| \\sim \\rho \\delta U^2/L^2$. À grand nombre de Reynolds, on ne conserve que les termes en $\\mathcal{O}(\\delta) = 0$. De cette équation on tire finalement que $p = p(x)$. \n",
    "\n",
    "__*Équation pour la pression*__\n",
    "\n",
    "On prend alors pour $p(x)$, la pression sur le bord de la couche limite. On l'obtient en solutionnant l'équation de Navier-Stokes dans la zone libre de viscosité : \n",
    "\n",
    "$$\n",
    "  \\frac{\\partial u_x}{\\partial t}  + u_x\\frac{\\partial u_x}{\\partial x} = - \\frac{1}{\\rho}\\frac{dP}{dx}\n",
    "$$\n",
    "\n",
    "\n",
    "__*Hypothèse de stationnarité*__\n",
    "\n",
    "Supposons maintenant que $\\partial_t u_x = 0 = \\partial_t u_y$. L'équation pour la pression se réduit comme : \n",
    "\n",
    "$$\n",
    "  -\\frac{1}{\\rho}\\frac{dP}{dx} = u_x\\frac{\\partial u_x}{\\partial x} = 0\n",
    "$$\n",
    "\n",
    "Car, loin de la plaque $u_x \\to U \\Longrightarrow \\partial_x u_x = 0$. Ceci simplifie l'équation pour $u_x$ en :\n",
    "\n",
    "$$\n",
    "   u_x \\frac{\\partial u_x}{\\partial x} + u_y \\frac{\\partial u_x}{\\partial y} = \\nu \\frac{\\partial^2 u_x}{\\partial^2 y}\n",
    "$$\n",
    "\n",
    "__*Équations de Prandtl*__\n",
    "\n",
    "Finalement, il ne reste plus que l'incompressibilité et l'équation pour $u_x$, c'est à dire :\n",
    "\n",
    "\n",
    "$$ \\left\\{ \\;    \n",
    "\\begin{array}{l} \n",
    "\\vec{\\nabla} \\cdot \\vec{u} = 0   \\\\\n",
    "u_x \\frac{\\partial u_x}{\\partial x} + u_y \\frac{\\partial u_x}{\\partial y} = \\nu \\frac{\\partial^2 u_x}{\\partial^2 y}  \\\\\n",
    "\\end{array} \n",
    "\\right.\n",
    "$$\n",
    "\n",
    "avec les conditions limites suivantes : \n",
    "\n",
    "$$ \\left\\{ \\;    \n",
    "\\begin{array}{l} \n",
    "u_x(x,0) = 0  \\\\\n",
    "u_x(0,y) = U \\\\\n",
    "u_y(x,0) = 0  \\\\\n",
    "u_y(0,y) = 0 \\\\\n",
    "\\end{array} \n",
    "\\right.\n",
    "$$\n",
    "\n",
    "__*Adimensionnalisation des équations*__\n",
    "\n",
    "Il suffit de considérer le changement de variable suivant :\n",
    "\n",
    "$$ \\left\\{ \\;    \n",
    "\\begin{array}{l} \n",
    "u_x' = \\frac{u_x}{U}  \\; ; \\; u_y' = \\frac{u_y \\sqrt{Re}}{U} \\\\\n",
    "x' = \\frac{x}{L} \\; ; \\; y' =  \\frac{y \\sqrt{Re}}{L} \\\\\n",
    "\\end{array} \n",
    "\\right.\n",
    "$$\n",
    "\n",
    "qui fournit le système final : \n",
    "\n",
    "$$ \\left\\{ \\;    \n",
    "\\begin{array}{l} \n",
    "\\vec{\\nabla} \\cdot \\vec{u} = 0   \\\\\n",
    "u_x \\frac{\\partial u_x}{\\partial x} + u_y \\frac{\\partial u_x}{\\partial y} = \\frac{\\partial^2 u_x}{\\partial^2 y}  \\\\\n",
    "\\end{array} \n",
    "\\right.\n",
    "$$\n",
    "\n",
    "Où l'on a oublié la notation $\\cdot '$ pour simplifier. Les conditions limites deviennent : \n",
    "\n",
    "$$ \\left\\{ \\;    \n",
    "\\begin{array}{l} \n",
    "u_x(x,0) = 0  \\\\\n",
    "u_x(0,y) = 1 \\\\\n",
    "u_y(x,0) = 0  \\\\\n",
    "u_y(0,y) = 0 \\\\\n",
    "\\end{array} \n",
    "\\right.\n",
    "$$"
   ]
  },
  {
   "cell_type": "markdown",
   "metadata": {},
   "source": [
    "<div align=\"right\">\n",
    "[Contenu](#Contenu)\n",
    "</div>"
   ]
  },
  {
   "cell_type": "markdown",
   "metadata": {},
   "source": [
    "#### 1.1.2 - Formulation de Blasius (1883 - 1970) en équation différentielle ordinaire\n",
    "\n",
    "> détailler equations finales Blasius + justifier CL\n",
    "> cas des petits et grands \\eta analytiquement\n",
    "\n",
    "__*Fonction de courant*__\n",
    "\n",
    "Utilisons le formalisme de la fonction de courant que l'on note $\\psi(x,y)$ : \n",
    "\n",
    "$$ \\left\\{ \\;    \n",
    "\\begin{array}{l} \n",
    "u_x =  \\partial_y \\psi \\\\\n",
    "u_y = - \\partial_x \\psi  \\\\\n",
    "\\end{array} \n",
    "\\right.\n",
    "$$\n",
    "\n",
    "Injectons ceci dans l'équation de Prandtl pour obtenir : \n",
    "\n",
    "$$\n",
    "\\frac{\\partial \\psi}{\\partial y} \\frac{\\partial^2 \\psi}{\\partial x \\partial y}\n",
    "- \\frac{\\partial \\psi}{\\partial x} \\frac{\\partial^2 \\psi}{\\partial y^2}\n",
    "= \\nu \\frac{\\partial^3 \\psi}{\\partial^3 y}\n",
    "$$\n",
    "\n",
    "__*Équation de Blasius*__\n",
    "\n",
    "Exprimons maintenant le génie de Blasius en posant la forme de la fonction de courant comme :\n",
    "\n",
    "$$\n",
    " \\psi = \\sqrt{\\nu U x} \\; f(\\eta) \\; ; \\; \\eta = \\sqrt{\\frac{U}{\\nu x}}y \n",
    "$$\n",
    "\n",
    "En effet, il avait remarqué que l'épaisseur de la couche limite devait augmenter de manière moins que linéaire et que le profil se modifiait en dilatant continûment sa courbure ($\\eta$ indépendant de $L$). Examinons la nouvelle forme de $u_x$ et de $u_y$ :\n",
    "\n",
    "    vérifier :\n",
    "$$\n",
    "\\left\\{ \\;    \n",
    "\\begin{array}{lclcl}\n",
    "u_x & = &  \\frac{\\partial}{\\partial y} \\psi & = & U f' \\\\\n",
    "\\frac{1}{2} \\left( \\frac{\\nu U}{x} \\right)^{1/2} \\left( \\eta f' - f \\right)\\\\ \n",
    "u_y & = & - \\frac{\\partial}{\\partial x} \\psi \n",
    "    & = &  \\frac{1}{\\sqrt{\\nu U x}}\\nu U f + \\sqrt{\\nu U x} f' \\sqrt{\\frac{U}{\\nu}}\\left(-\\frac{1}{2}\\frac{1}{\\sqrt{x^3}} \\right)y \\\\ \n",
    "\\end{array}\n",
    "\\right.\n",
    "$$\n",
    "\n",
    "\n",
    "\n",
    "\n",
    "\n",
    "    En injectant $\\psi$, on trouve alors une équation pour $f$, l'équation de Blasius :\n",
    "\n",
    "$$\n",
    "    \\frac{1}{2}ff^{''} + f^{'''} = 0\n",
    "$$\n",
    "\n",
    "avec les conditions limites suivantes : \n",
    " \n",
    "$$ \\left\\{ \\;    \n",
    "\\begin{array}{lcl}\n",
    "f(0) & = & 0 \\\\ \n",
    "f'(0) & = & 0 \\\\ \n",
    "f''(0) & = & ? \\; \\Longrightarrow \\; f'(\\infty) & = & 1 \\\\ \n",
    "\\end{array}\n",
    "\\right.$$\n",
    "\n",
    "\n",
    "__*Comportement de l'écoulement à l'origine*__\n",
    "\n",
    "Pour les petites valeurs de $\\eta$, on peut développer $f'$ en série de Taylor autour de $0$ comme : \n",
    "\n",
    "$$\n",
    "f'(\\eta) = f'(0) + \\eta f''(0) + \\mathcal{O}(\\eta^2)\n",
    "$$\n",
    "\n",
    "Comtpe tenu des conditions initiales cette expression se réduit comme : \n",
    "\n",
    "$$\n",
    "f'(\\eta) = \\eta f''(0) + \\mathcal{O}(\\eta^2)\n",
    "$$\n",
    "\n",
    "C'est à dire qu'au premier ordre l'écoulement est linéaire en $\\eta$."
   ]
  },
  {
   "cell_type": "markdown",
   "metadata": {},
   "source": [
    "<div align=\"right\">\n",
    "[Contenu](#Contenu)\n",
    "</div>"
   ]
  },
  {
   "cell_type": "markdown",
   "metadata": {},
   "source": [
    "### 1.2 - Méthodes de résolution numérique\n",
    "Il arrive souvent en physique que des équations ne peuvent être solutionnées analytiquement. Les fameuses équations de Navier-Stokes en donne un bel exemple. Le problème que nous avons à résoudre en découle et peut s’écrire sous deux formes analytiques équivalentes. Celles-ci sont propices à l’utilisation de méthodes numériques différentes (la méthode des différences finies et l’intégration numérique) de sorte que nous puissions, à la fin, les comparer.\n",
    "\n",
    "Notons que l'intégration numérique est assujettie aux conditions initiales. Ici, nous n'en avons que deux sur trois. Cependant, on a tout de même une condition supplémentaire qui peut être exploitée afin de pouvoir utiliser l'intégration numérique, il faudra donc passer par le * « shooting »*.\n",
    "\n"
   ]
  },
  {
   "cell_type": "markdown",
   "metadata": {},
   "source": [
    "<div align=\"right\">\n",
    "[Contenu](#Contenu)\n",
    "</div>"
   ]
  },
  {
   "cell_type": "markdown",
   "metadata": {},
   "source": [
    "#### 1.2.1 - Différences finies\n",
    "\n",
    "La méthode des différences finies est très intuitive. Elle est basée sur la définition de la dérivée d'une fonction (que l'on suppose, bien entendu, suffisamment lisse) : \n",
    "\n",
    "$$\n",
    "    f'(x) = \\lim_{\\Delta x \\, \\to \\, 0} \\frac{f(x + \\Delta x) - f(x)}{\\Delta x}\n",
    "$$\n",
    "\n",
    "On construit une grille de pas $h$ et on approxime ainsi la dérivée de la fonction à l'aide du nœud de la grille suivant : \n",
    "\n",
    "$$\n",
    "    f'(x) \\approx \\frac{f(x + h) - f(x)}{h}\n",
    "$$\n",
    "\n",
    "C'est la formule d'Euler progressive. Si on exploite le nœud précédent, on obtient la formule d'Euler rétrograde : \n",
    "\n",
    "$$\n",
    "    f'(x) \\approx \\frac{f(x) - f(x - h)}{h}\n",
    "$$\n",
    "\n",
    "Afin de gagner en précision, on peut utiliser les deux informations pour avoir la différence centrée : \n",
    "\n",
    "$$\n",
    "    f'(x) \\approx \\frac{f(x + h) - f(x - h)}{2h}\n",
    "$$\n",
    "\n",
    "L'article de B. Fornberg fournit les coefficients à utiliser pour les dérivées d'ordre supérieur (jusque 4) ainsi que pour des niveaux plus fin de précision."
   ]
  },
  {
   "cell_type": "markdown",
   "metadata": {},
   "source": [
    "<div align=\"right\">\n",
    "[Contenu](#Contenu)\n",
    "</div>"
   ]
  },
  {
   "cell_type": "markdown",
   "metadata": {},
   "source": [
    "#### 1.2.2 - Intégration numérique\n",
    "\n",
    "Considérons le problème de Cauchy suivant : \n",
    "\n",
    "$$ \\left\\{ \\;\n",
    "\\begin{array}{lcl}\n",
    "y'(x) & = & f(x,y(x)) \\\\ \n",
    "y(x_0) & = & y_0 \\\\ \n",
    "\\end{array} \n",
    "\\right.$$\n",
    "\n",
    "De nouveau, on suppose la fonction $y$ suffisamment lisse sur l'intervalle $I$ où court $x$. Dès lors, on peut montrer l'existence et l'unicité d'une solution locale. Celle-ci sera de la forme : \n",
    "\n",
    "$$\n",
    "y(x) = y_0 + \\int\\limits_{x_0}^{x} f(x',y(x')) dx'\n",
    "$$\n",
    "\n",
    "Maintenant, on discrétise l'intervalle d'intégration par un pas $h$ tel que : \n",
    "\n",
    "$$\n",
    "x_n = x_0 + nh  \\; ; \\; n \\in \\left\\{ 0, 1, \\cdots, N \\right\\} \\subset \\mathbb{N}\n",
    "$$\n",
    "\n",
    "On définit alors pour chacun de ces nœuds :\n",
    "\n",
    "$$\n",
    "y_n = y(x_n) \\; ; \\; f_n = f(x_n, y_n)\n",
    "$$\n",
    "\n",
    "Ceci permet de construire une schéma d'intégration générique calculant successivement $y_n$ en chaque nœud depuis la condition initiale connue : \n",
    "\n",
    "$$\n",
    "y_{n+1} = y_n + hF(x_i, y_i, f_i; h)\n",
    "$$\n",
    "\n",
    "Où $F$ est la fonction d'incrément caractérisant le schéma d'intégration utilisé."
   ]
  },
  {
   "cell_type": "markdown",
   "metadata": {},
   "source": [
    "<div align=\"right\">\n",
    "[Contenu](#Contenu)\n",
    "</div>"
   ]
  },
  {
   "cell_type": "markdown",
   "metadata": {},
   "source": [
    "#### 1.2.3 - Méthode du « <i>shooting</i> »\n",
    "\n",
    "Si l'on a une condition limite qui n'est pas fixée à l'origine, en vertu du paragraphe précédent, on voit que l'intégration numérique ne peut pas s'enclencher. Par exemple, considérons un système de trois équations différentielles ordinaires pour $f_1$, $f_2$ et $f_3$ tel que l'on ait :\n",
    "\n",
    "$$ \\left\\{ \\;\n",
    "\\begin{array}{lcl}\n",
    "f_1(t_0) & = & f_{10} \\\\ \n",
    "f_2(t_0) & = & f_{20} \\\\ \n",
    "f_3(\\tau) & = & f_{3\\tau} \\\\ \n",
    "\\end{array} \n",
    "\\right.$$\n",
    "\n",
    "On construit alors un algorithme qui va essayer différentes conditions initiales pour $f_3$ jusqu'à en trouver une telle que l'on ait $f_3(\\tau) = f_{3\\tau}$.  Cette idée d'essayer différentes conditions initiales et de les tirer jusque $\\tau$ fait penser à des tirs successifs, d'où le nom de méthode du « *shooting* »."
   ]
  },
  {
   "cell_type": "markdown",
   "metadata": {},
   "source": [
    "<div align=\"right\">\n",
    "[Contenu](#Contenu)\n",
    "</div>"
   ]
  },
  {
   "cell_type": "markdown",
   "metadata": {},
   "source": [
    "## 2 - Résolution numérique\n",
    "\n",
    "    Texte"
   ]
  },
  {
   "cell_type": "markdown",
   "metadata": {},
   "source": [
    "<div align=\"right\">\n",
    "[Contenu](#Contenu)\n",
    "</div>"
   ]
  },
  {
   "cell_type": "markdown",
   "metadata": {},
   "source": [
    "### 2.1 - Différences finies appliquées à la forme de Prandtl\n",
    "\n",
    ">    TEST différences finies : non fonctionnel"
   ]
  },
  {
   "cell_type": "markdown",
   "metadata": {},
   "source": [
    "<div align=\"right\">\n",
    "[Contenu](#Contenu)\n",
    "</div>"
   ]
  },
  {
   "cell_type": "code",
   "execution_count": 72,
   "metadata": {
    "collapsed": false
   },
   "outputs": [],
   "source": [
    "# Librairies\n",
    "import numpy as np\n",
    "from scipy.integrate import odeint\n",
    "import matplotlib.pyplot as plt\n",
    "\n",
    "# Définition du vecteur x\n",
    "xmin = 0.\n",
    "xmax = 20.0   # Modifiable (par défaut 20.0)\n",
    "n = 2         # Modifiable (par défaut 2)\n",
    "m = pow(10,n)\n",
    "h = round(xmax - xmin)/m\n",
    "x = np.linspace(xmin, xmax, m) \n",
    "\n",
    "# Conditions initiales\n",
    "U = 2.\n",
    "CondInit = np.array([0., U, 0., 0.]) # [u(x,0), u(0,y) , v(x,0), v(0,y)] = [0 , U, 0, 0] \n",
    "\n",
    "# Résolution \n",
    "# Initialisation \n",
    "u = np.zeros((m+1, m+1), dtype='f')\n",
    "v = np.zeros((m+1, m+1), dtype='f')\n",
    "\n",
    "k = 0\n",
    "while k < m + 1 :\n",
    "    u[0,k] = CondInit[1]\n",
    "    u[k,0] = CondInit[0]\n",
    "    k += 1    \n",
    "\n",
    "    "
   ]
  },
  {
   "cell_type": "code",
   "execution_count": 73,
   "metadata": {
    "collapsed": false
   },
   "outputs": [
    {
     "data": {
      "text/plain": [
       "array([[ 0.,  2.,  2., ...,  2.,  2.,  2.],\n",
       "       [ 0.,  0.,  0., ...,  0.,  0.,  0.],\n",
       "       [ 0.,  0.,  0., ...,  0.,  0.,  0.],\n",
       "       ..., \n",
       "       [ 0.,  0.,  0., ...,  0.,  0.,  0.],\n",
       "       [ 0.,  0.,  0., ...,  0.,  0.,  0.],\n",
       "       [ 0.,  0.,  0., ...,  0.,  0.,  0.]], dtype=float32)"
      ]
     },
     "execution_count": 73,
     "metadata": {},
     "output_type": "execute_result"
    }
   ],
   "source": [
    "u"
   ]
  },
  {
   "cell_type": "markdown",
   "metadata": {},
   "source": [
    "<div align=\"right\">\n",
    "[Contenu](#Contenu)\n",
    "</div>"
   ]
  },
  {
   "cell_type": "markdown",
   "metadata": {},
   "source": [
    "### 2.2 - Intégration numérique de problème de Blasius\n",
    "\n",
    "Passons à la méthode du *shooting*. On commence par transformer l'équation de Blasius, qui est une équation différentielle ordinaire du $3^{ème}$ ordre, en un système de trois équations différentielles ordinaires du $1^{er}$ ordre :\n",
    "\n",
    "$$ \\left\\{ \\;\n",
    "\\begin{array}{lclc}\n",
    "g_1 & = & f   &                 \\\\ \n",
    "g_2 & = & f'  & \\Longrightarrow \\\\ \n",
    "g_3 & = & f'' &                 \\\\ \n",
    "\\end{array}\n",
    "\\right.\n",
    "\\left\\{ \\;\n",
    "\\begin{array}{lcl}\n",
    "g_1' & = & g_2 \\\\ \n",
    "g_2' & = & g_3 \\\\ \n",
    "g_3' & = & -\\frac{1}{2} g_1 g_3 \\\\ \n",
    "\\end{array}\n",
    "\\right.\n",
    "$$\n",
    "\n",
    "Où l'on a explicitement utilisé l'équation de Blasius pour $g_3'$.\n",
    "\n",
    "On exprime les conditions limites en termes des $g_1$, $g_2$ et $g_3$ :\n",
    "\n",
    "\n",
    "$$ \\left\\{ \\;    \n",
    "\\begin{array}{lcl}\n",
    "g_1(0) & = & 0 \\\\ \n",
    "g_2(0) & = & 0 \\\\ \n",
    "g_2(\\infty) & = & 1 \\\\ \n",
    "\\end{array} \n",
    "\\right.$$\n",
    "\n",
    "\n",
    "Il faut modifier la $3^{ème}$condition afin de l'exprimer comme une condition initiale de $g_3$ tout en ayant $\\lim\\limits_{t \\to + \\infty} g_2(t) = 1$.\n",
    "\n",
    "Ci-dessous, l'intégrateur numérique de *Python* résout le système d'équations pour un triplet de conditions initiales données par l'utilisateur. En cherchant un peu, on trouve rapidement la condition manquante : $g_3(0) \\approx \\frac{1}{3}$."
   ]
  },
  {
   "cell_type": "markdown",
   "metadata": {},
   "source": [
    "<div align=\"right\">\n",
    "[Contenu](#Contenu)\n",
    "</div>"
   ]
  },
  {
   "cell_type": "code",
   "execution_count": 74,
   "metadata": {
    "collapsed": false
   },
   "outputs": [],
   "source": [
    "# Librairies\n",
    "import numpy as np\n",
    "from scipy.integrate import odeint\n",
    "import matplotlib.pyplot as plt\n",
    "\n",
    "# Définition du vecteur x\n",
    "xmin = 0.\n",
    "xmax = 20.  # Modifiable (par défaut 20.)\n",
    "n = 2       # Modifiable (par défaut 2)\n",
    "m = pow(10,n)\n",
    "x = np.linspace(xmin, xmax, m) \n",
    "\n",
    "# Conditions initiales\n",
    "CondInit = np.array([0.,0.,0.3333]) # Shooting sur la troisième condition donne g_3(0) = 1/3 (approximativement)\n",
    "\n",
    "# Définition du système\n",
    "def Blasius(CondInit,t):\n",
    "    g1 = CondInit[1]\n",
    "    g2 = CondInit[2]\n",
    "    g3 = -0.5*CondInit[0]*CondInit[2]\n",
    "    return np.array([g1, g2, g3])\n",
    "\n",
    "# Intégration du système\n",
    "g = odeint(Blasius, CondInit, x) # g_1 = g[:,0], g_2 = g[:,1] et g_3 = g[:,2]\n",
    "\n",
    "# Affichage \n",
    "fig, axes = plt.subplots(3, sharex = True, figsize=(15,10))\n",
    "axes[0].plot(x, g[:,0])\n",
    "axes[0].set_ylabel('Axe y')\n",
    "axes[0].set_title('g_1')\n",
    "axes[0].xaxis.grid(True,'major')\n",
    "axes[0].yaxis.grid(True,'major')\n",
    "\n",
    "axes[1].plot(x, g[:,1])\n",
    "axes[1].set_ylabel('Axe y')\n",
    "axes[1].set_title('g_2')\n",
    "axes[1].xaxis.grid(True,'major')\n",
    "axes[1].yaxis.grid(True,'major')\n",
    "\n",
    "axes[2].plot(x, g[:,2])\n",
    "axes[2].set_xlabel('Axe x')\n",
    "axes[2].set_ylabel('Axe y')\n",
    "axes[2].set_title('g_3')\n",
    "axes[2].xaxis.grid(True,'major')\n",
    "axes[2].yaxis.grid(True,'major')\n",
    "\n",
    "# Approximation de g2 pour les petites valeurs de eta (0 < x <~ 2.5)\n",
    "i = 0\n",
    "n = 11 # Permet d'aller jusque X =~ 2,5 avec les paramètres d'intégration par défaut.\n",
    "X = np.zeros(n)\n",
    "while i < n :\n",
    "    X[i] = x[i]\n",
    "    i += 1\n",
    "    \n",
    "axes[1].plot(X, X*g[0,2])\n",
    "\n",
    "plt.show(fig)"
   ]
  },
  {
   "cell_type": "code",
   "execution_count": null,
   "metadata": {
    "collapsed": false
   },
   "outputs": [],
   "source": [
    "i = 0\n",
    "while i < m :\n",
    "    print(g[i,1])\n",
    "    i +=1\n"
   ]
  },
  {
   "cell_type": "markdown",
   "metadata": {},
   "source": [
    "<div align=\"right\">\n",
    "[Contenu](#Contenu)\n",
    "</div>"
   ]
  },
  {
   "cell_type": "markdown",
   "metadata": {},
   "source": []
  },
  {
   "cell_type": "markdown",
   "metadata": {},
   "source": [
    "## 3 - Conclusions"
   ]
  },
  {
   "cell_type": "markdown",
   "metadata": {},
   "source": [
    "   > A rédiger\n",
    "   > Comparaison des méthodes : vitesse, stabilité, simplicité, précision, ...\n",
    "\n",
    "   > Conclure"
   ]
  },
  {
   "cell_type": "markdown",
   "metadata": {},
   "source": [
    "<div align=\"right\">\n",
    "[Contenu](#Contenu)\n",
    "</div>"
   ]
  },
  {
   "cell_type": "markdown",
   "metadata": {},
   "source": [
    "## Bibliographie\n",
    "\n",
    "* Notes personelles basée sur le cours magistral <i>Dynamique des fluides et des plasmas</i> de Bernard Knaepen, Université Libre de Bruxelles, 2015.\n",
    "* André Fuzfa, <i>Introduction aux algorithmes mathématiques et au calcul scientifique</i>, Presse Universitaire de Namur, 2012.\n",
    "* Josef Stoer and Roland Bulirsch, <i>Introduction to Numerical Analysis</i>, New York : Springer-Verlag, 1980. Voir section 7.3.\n",
    "* Bengt Fornberg, <i>Generation of Finite Difference Formulas on Arbitrarily Spaced Grids</i>, Mathematics of Computation, volume 51 numéro 184, octobre 1988."
   ]
  },
  {
   "cell_type": "markdown",
   "metadata": {},
   "source": [
    "<div align=\"right\">\n",
    "[Contenu](#Contenu)\n",
    "</div>"
   ]
  }
 ],
 "metadata": {
  "kernelspec": {
   "display_name": "Python 3",
   "language": "python",
   "name": "python3"
  },
  "language_info": {
   "codemirror_mode": {
    "name": "ipython",
    "version": 3
   },
   "file_extension": ".py",
   "mimetype": "text/x-python",
   "name": "python",
   "nbconvert_exporter": "python",
   "pygments_lexer": "ipython3",
   "version": "3.5.0"
  }
 },
 "nbformat": 4,
 "nbformat_minor": 0
}
