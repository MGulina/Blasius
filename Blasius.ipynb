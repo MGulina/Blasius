{
 "cells": [
  {
   "cell_type": "markdown",
   "metadata": {},
   "source": [
    "<table width=\"100%\">\n",
    "  <tr>\n",
    "    <td  valign=\"middle\"><div align=\"center\"><h1>Résolution numérique du problème de Blasius</h1></div></td>\n",
    "  </tr>\n",
    "</table>"
   ]
  },
  {
   "cell_type": "markdown",
   "metadata": {},
   "source": [
    "## 1 - Introduction"
   ]
  },
  {
   "cell_type": "markdown",
   "metadata": {},
   "source": [
    "Objectifs : résoudre Blasius en comparant 2 méthodes numérique et consigner le tout dans un notebook public sur GitHub."
   ]
  },
  {
   "cell_type": "markdown",
   "metadata": {},
   "source": [
    "## 2 - Un soupçon de théorie"
   ]
  },
  {
   "cell_type": "markdown",
   "metadata": {},
   "source": [
    " <div align=\"right\">\n",
    "     <i>\n",
    "         « Ce que l'on conçoit bien s'énonce clairement,\n",
    "         <br />\n",
    "         et les mots pour le dire arrivent aisément. »\n",
    "     </i>\n",
    "     <br />\n",
    "     Nicolas Boileau, <i>L'Art poétique</i> (1674)\n",
    " </div>"
   ]
  },
  {
   "cell_type": "markdown",
   "metadata": {},
   "source": [
    "### 2.1 - Le problème de Blasius"
   ]
  },
  {
   "cell_type": "markdown",
   "metadata": {},
   "source": [
    "Modèle d'aile d'avion simplifié : \n",
    "<br />EDP : \n",
    "$$\n",
    "    u_x \\frac{\\partial u_x}{\\partial x} + u_y \\frac{\\partial u_x}{\\partial y} = \\nu \\frac{\\partial^2 u_x}{\\partial^2 y}\n",
    "$$\n",
    "    \n",
    "<br /> EDO (fonction de courant $\\psi$) :\n",
    "$$\n",
    "    \\frac{1}{2}ff^{''} + f^{'''} = 0\n",
    "$$\n"
   ]
  },
  {
   "cell_type": "markdown",
   "metadata": {},
   "source": []
  },
  {
   "cell_type": "markdown",
   "metadata": {},
   "source": [
    "### 2.2 - Méthode du « <i>shooting</i> »"
   ]
  },
  {
   "cell_type": "markdown",
   "metadata": {},
   "source": []
  },
  {
   "cell_type": "markdown",
   "metadata": {},
   "source": [
    "### 2.3 - Méhodes de résolution numérique"
   ]
  },
  {
   "cell_type": "markdown",
   "metadata": {},
   "source": []
  },
  {
   "cell_type": "markdown",
   "metadata": {},
   "source": [
    "#### 2.3.1 - Différences finies"
   ]
  },
  {
   "cell_type": "markdown",
   "metadata": {},
   "source": []
  },
  {
   "cell_type": "markdown",
   "metadata": {},
   "source": [
    "#### 2.3.2 - Runge-Kutta"
   ]
  },
  {
   "cell_type": "markdown",
   "metadata": {},
   "source": []
  },
  {
   "cell_type": "markdown",
   "metadata": {},
   "source": [
    "## 3 - Résolution numérique"
   ]
  },
  {
   "cell_type": "markdown",
   "metadata": {},
   "source": []
  },
  {
   "cell_type": "markdown",
   "metadata": {},
   "source": [
    "## 4 - Bibliographie"
   ]
  },
  {
   "cell_type": "markdown",
   "metadata": {},
   "source": [
    "* Notes personelles basée sur le cours magistral <i>Dynamique des fluides et des plasmas</i> de Bernard Knaepen, Université Libre de Bruxelles, 2015.\n",
    "* André Fuzfa, <i>Introduction aux algorithmes mathématiques et au calcul scientifique</i>, Presse Universitaire de Namur, 2012.\n",
    "* Josef Stoer and Roland Bulirsch, <i>Introduction to Numerical Analysis</i>, New York : Springer-Verlag, 1980. Voir section 7.3."
   ]
  },
  {
   "cell_type": "markdown",
   "metadata": {},
   "source": []
  }
 ],
 "metadata": {
  "kernelspec": {
   "display_name": "Python 3",
   "language": "python",
   "name": "python3"
  },
  "language_info": {
   "codemirror_mode": {
    "name": "ipython",
    "version": 3
   },
   "file_extension": ".py",
   "mimetype": "text/x-python",
   "name": "python",
   "nbconvert_exporter": "python",
   "pygments_lexer": "ipython3",
   "version": "3.5.0"
  }
 },
 "nbformat": 4,
 "nbformat_minor": 0
}
