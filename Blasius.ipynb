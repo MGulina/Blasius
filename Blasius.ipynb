{
 "cells": [
  {
   "cell_type": "markdown",
   "metadata": {},
   "source": [
    "<table width=\"100%\">\n",
    "  <tr>\n",
    "    <td  valign=\"middle\"><div align=\"center\"><h1>Résolution numérique du problème de Blasius</h1></div></td>\n",
    "  </tr>\n",
    "</table>"
   ]
  },
  {
   "cell_type": "markdown",
   "metadata": {},
   "source": [
    "## Introduction"
   ]
  },
  {
   "cell_type": "markdown",
   "metadata": {},
   "source": [
    "Objectifs : résoudre Blasius en comparant 2 méthodes numérique et consigner le tout dans un notebook public sur GitHub."
   ]
  },
  {
   "cell_type": "markdown",
   "metadata": {},
   "source": [
    "## 1 - Un soupçon de théorie"
   ]
  },
  {
   "cell_type": "markdown",
   "metadata": {},
   "source": [
    " <div align=\"right\">\n",
    "     <i>\n",
    "         « Ce que l'on conçoit bien s'énonce clairement,\n",
    "         <br />\n",
    "         et les mots pour le dire arrivent aisément. »\n",
    "     </i>\n",
    "     <br />\n",
    "     Nicolas Boileau, <i>L'Art poétique</i> (1674)\n",
    " </div>"
   ]
  },
  {
   "cell_type": "markdown",
   "metadata": {},
   "source": [
    "### 1.1 - Le problème de Blasius"
   ]
  },
  {
   "cell_type": "markdown",
   "metadata": {},
   "source": [
    "Planter le décor et montrer les 2 formes analytiques du problème de Blasius en partant de NS pour la première et en y ajoutant le formalisme de la fonction de courant pour la seconde.\n",
    "\n",
    "* Forme 1 (EDP) : \n",
    "$$\n",
    "    u_x \\frac{\\partial u_x}{\\partial x} + u_y \\frac{\\partial u_x}{\\partial y} = \\nu \\frac{\\partial^2 u_x}{\\partial^2 y}\n",
    "$$\n",
    "$$ \n",
    "    \\vec{\\nabla} \\cdot \\vec{u} = 0\n",
    "$$\n",
    "    \n",
    "* Forme 2 (EDO) :\n",
    "$$\n",
    "    \\frac{1}{2}ff^{''} + f^{'''} = 0\n",
    "$$\n"
   ]
  },
  {
   "cell_type": "markdown",
   "metadata": {},
   "source": []
  },
  {
   "cell_type": "markdown",
   "metadata": {},
   "source": [
    "### 1.2 - Méhodes de résolution numérique"
   ]
  },
  {
   "cell_type": "markdown",
   "metadata": {},
   "source": [
    "Introduction"
   ]
  },
  {
   "cell_type": "markdown",
   "metadata": {},
   "source": [
    "#### 1.2.1 - Différences finies"
   ]
  },
  {
   "cell_type": "markdown",
   "metadata": {},
   "source": [
    "Résumé sur différences finies"
   ]
  },
  {
   "cell_type": "markdown",
   "metadata": {},
   "source": [
    "#### 1.2.2 - Runge-Kutta"
   ]
  },
  {
   "cell_type": "markdown",
   "metadata": {},
   "source": [
    "Introduction méthode multipas et résumé RK (CP de RK avec nombre d'étape optimale par rapport à RK3 (3) et RK5 (6))"
   ]
  },
  {
   "cell_type": "markdown",
   "metadata": {},
   "source": [
    "### 1.3 - Méthode du « <i>shooting</i> »"
   ]
  },
  {
   "cell_type": "markdown",
   "metadata": {},
   "source": [
    "Détaillé la méthode"
   ]
  },
  {
   "cell_type": "markdown",
   "metadata": {},
   "source": [
    "## 2 - Résolution numérique"
   ]
  },
  {
   "cell_type": "markdown",
   "metadata": {},
   "source": [
    "On commence par la méthode du *shooting* en transformant l'équation différentielle ordinaire du 3ème ordre en un système de 3 équations différentielles ordinaires du 1er ordre : \n",
    "\n",
    "$$g_1 = f = g_2$$\n",
    "$$g_2 = f' = g_3$$\n",
    "$$g_3 = f'' = - \\frac{1}{2} g_1 g_3$$\n",
    "\n",
    "Il faut modifier la 3ème condition initiale pour avoir $g_2(\\infty) \\to 1$"
   ]
  },
  {
   "cell_type": "code",
   "execution_count": 6,
   "metadata": {
    "collapsed": true
   },
   "outputs": [],
   "source": [
    "# Librairies\n",
    "import numpy as np\n",
    "from scipy.integrate import odeint\n",
    "import matplotlib.pyplot as plt\n",
    "\n",
    "# Définition du vecteur x\n",
    "x0 = 0.0\n",
    "xmax = 50.0 # Modifiable (par défaut 50.0)\n",
    "dx = 0.001\n",
    "x = np.arange(x0, xmax, dx)  \n",
    "\n",
    "# Conditions initiales\n",
    "CondInit = np.array([0.0,0.0,0.331]) # Shooting sur la troisième : valeur optimale 0.331\n",
    "\n",
    "# Définition du système différentiel\n",
    "def Blasius(CondInit,t):\n",
    "    g1 = CondInit[1]\n",
    "    g2 = CondInit[2]\n",
    "    g3 = -0.5*CondInit[0]*CondInit[2]\n",
    "    return np.array([g1, g2, g3])\n",
    "\n",
    "# Intégration du système\n",
    "g = odeint(Blasius, CondInit, x)\n",
    "\n",
    "# Affichage \n",
    "plt.plot(x, g[:,1])\n",
    "plt.xlabel('')\n",
    "plt.ylabel('')\n",
    "plt.title('')\n",
    "plt.show()"
   ]
  },
  {
   "cell_type": "markdown",
   "metadata": {},
   "source": [
    "## 3 - Conclusions"
   ]
  },
  {
   "cell_type": "markdown",
   "metadata": {},
   "source": [
    "Comparaison des méthodes : vitesse, stabilité, simplicité, précision, ...\n",
    "\n",
    "Conclure"
   ]
  },
  {
   "cell_type": "markdown",
   "metadata": {},
   "source": [
    "## Bibliographie"
   ]
  },
  {
   "cell_type": "markdown",
   "metadata": {},
   "source": [
    "* Notes personelles basée sur le cours magistral <i>Dynamique des fluides et des plasmas</i> de Bernard Knaepen, Université Libre de Bruxelles, 2015.\n",
    "* André Fuzfa, <i>Introduction aux algorithmes mathématiques et au calcul scientifique</i>, Presse Universitaire de Namur, 2012.\n",
    "* Josef Stoer and Roland Bulirsch, <i>Introduction to Numerical Analysis</i>, New York : Springer-Verlag, 1980. Voir section 7.3."
   ]
  },
  {
   "cell_type": "markdown",
   "metadata": {},
   "source": []
  }
 ],
 "metadata": {
  "kernelspec": {
   "display_name": "Python 3",
   "language": "python",
   "name": "python3"
  },
  "language_info": {
   "codemirror_mode": {
    "name": "ipython",
    "version": 3
   },
   "file_extension": ".py",
   "mimetype": "text/x-python",
   "name": "python",
   "nbconvert_exporter": "python",
   "pygments_lexer": "ipython3",
   "version": "3.5.0"
  }
 },
 "nbformat": 4,
 "nbformat_minor": 0
}
